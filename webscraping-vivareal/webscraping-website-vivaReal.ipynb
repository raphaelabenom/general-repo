{
 "cells": [
  {
   "cell_type": "code",
   "execution_count": null,
   "id": "529f54ce-f32e-4fbe-a29d-ca35f7ef7933",
   "metadata": {
    "editable": true,
    "slideshow": {
     "slide_type": ""
    },
    "tags": []
   },
   "outputs": [],
   "source": [
    "# Ambiente e dependências: Instalação de dependências\n",
    "\n",
    "import bs4\n",
    "import urllib.request as urllib_request\n",
    "import pandas as pd\n",
    "import requests\n",
    "from bs4 import BeautifulSoup\n",
    "import seaborn as sns\n",
    "import matplotlib.pyplot as plt\n",
    "# import plotly.graph_objects as go\n",
    "# import plotly.express as px\n",
    "# from xgboost import XGBRegressor\n",
    "# from sklearn.model_selection import train_test_split\n",
    "# from sklearn.metrics import mean_squared_error, r2_score\n",
    "# from sklearn.preprocessing import OneHotEncoder\n",
    "# from sklearn.compose import ColumnTransformer\n",
    "# from sklearn.pipeline import Pipeline\n",
    "# from sklearn.impute import SimpleImputer\n",
    "\n",
    "# from urllib.request import urlopen, Request\n",
    "# from urllib.error import URLError, HTTPError\n",
    "\n",
    "print(\"BeautifulSoup: \", bs4.__version__)\n",
    "print(\"urllib: \", urllib_request.__version__)\n",
    "print(\"Pandas:  \", pd.__version__)"
   ]
  },
  {
   "cell_type": "code",
   "execution_count": null,
   "id": "a39b5b41-fed9-4c5f-a940-0362ce2e7232",
   "metadata": {
    "editable": true,
    "slideshow": {
     "slide_type": ""
    },
    "tags": []
   },
   "outputs": [],
   "source": [
    "\n",
    "# Scraping...\n",
    "headers = {'user-agent': 'Mozilla/5.0 (Windows NT 10.0; Win64; x64) AppleWebKit/537.36 (KHTML, like Gecko) Chrome/112.0.0.0 Safari/537.36'}\n",
    "\n",
    "cards = []\n",
    "page = 1\n",
    "base_url = 'https://www.vivareal.com.br'\n",
    "\n",
    "while True:\n",
    "    url = f'{base_url}/venda/?pagina={page}'\n",
    "    response = requests.get(url, headers=headers)\n",
    "    soup = BeautifulSoup(response.content, 'html.parser')\n",
    "\n",
    "    anuncios = soup.find(\"div\", class_=\"results-list js-results-list\")\n",
    "\n",
    "    # Se não houver mais anúncios, interrompe o loop\n",
    "    if anuncios is None:\n",
    "        break\n",
    "\n",
    "    anuncios = anuncios.find_all(class_=\"property-card__container\")\n",
    "\n",
    "    for anuncio in anuncios:\n",
    "        card = {}\n",
    "\n",
    "        card['preco'] = anuncio.find(\"div\", class_=\"property-card__price js-property-card-prices js-property-card__price-small\").get_text(strip=True)\n",
    "        card['imovel'] = anuncio.find(\"span\", class_=\"property-card__title js-cardLink js-card-title\").string.split(\",\" or \"-\")[0].lstrip()\n",
    "        endereco = anuncio.find(\"span\", class_=\"property-card__address\").get_text(strip=True)\n",
    "        card['endereco'] = endereco\n",
    "\n",
    "        infos = anuncio.find(\"ul\", class_=\"property-card__details\").findAll('span')\n",
    "\n",
    "        for i in range(0, len(infos), 2):\n",
    "            valor = infos[i].get_text(strip=True)\n",
    "            texto = infos[i+1].get_text(strip=True)\n",
    "\n",
    "            if \"m²\" in texto:\n",
    "                card[\"metros\"] = f\"{valor} {texto}\"\n",
    "            elif \"Quartos\" in texto:\n",
    "                card[\"qtdquartos\"] = f\"{valor} {texto}\"\n",
    "            elif \"Banheiros\" in texto:\n",
    "                card[\"qtdbanheiros\"] = f\"{valor} {texto}\"\n",
    "            elif \"Garagem\" in texto:\n",
    "                card[\"garagem\"] = f\"{valor} {texto}\"\n",
    "\n",
    "        # Adiciona a URL do anúncio ao card\n",
    "        anuncio_link = anuncio.find('a', class_=\"property-card__content-link js-card-title\")\n",
    "        if anuncio_link is not None and 'href' in anuncio_link.attrs:\n",
    "            card['url'] = base_url + anuncio_link['href']\n",
    "\n",
    "        cards.append(card)\n",
    "\n",
    "    # Verifica se existe uma próxima página\n",
    "    prox_button = soup.find('button', {'class': 'js-change-page', 'title': 'Próxima página'})\n",
    "    if prox_button is None:\n",
    "        break\n",
    "\n",
    "    page = int(prox_button['data-page'])"
   ]
  },
  {
   "cell_type": "code",
   "execution_count": null,
   "id": "25040fb8-2dce-44c2-9b78-c999528f5d10",
   "metadata": {
    "editable": true,
    "slideshow": {
     "slide_type": ""
    },
    "tags": []
   },
   "outputs": [],
   "source": [
    "# Salvando em um dataframe\n",
    "data = pd.DataFrame(cards)\n",
    "\n",
    "# Verificando a dimensão do dataframe\n",
    "print(data.shape)\n"
   ]
  },
  {
   "cell_type": "code",
   "execution_count": null,
   "id": "a8f3098b-d8b5-408f-92ca-08760e2c0871",
   "metadata": {
    "editable": true,
    "slideshow": {
     "slide_type": ""
    },
    "tags": []
   },
   "outputs": [],
   "source": [
    "# Tratamento de Features\n",
    "\n",
    "class tratamento:\n",
    "    \n",
    "    def __init__(self, data) -> None:\n",
    "        self.data = data\n",
    "\n",
    "    def alterarinfos (self):\n",
    "        self.data['preco'] = self.data['preco'].str.extract(r'(\\d+\\.\\d+|\\d+)')\n",
    "        self.data['metros'] = self.data['metros'].str.extract(r'(\\d+)')\n",
    "        self.data['qtdquartos'] = self.data['qtdquartos'].str.extract(r'(\\d+)')\n",
    "        self.data['qtdbanheiros'] = self.data['qtdbanheiros'].str.extract(r'(\\d+)')\n",
    "        return self.data\n",
    "\n",
    "    def incluir (self):\n",
    "        self.data = self.data.assign(tipo_imovel=\"\")\n",
    "        \n",
    "        # Alocar tipo de imóvel\n",
    "        imoveistipo = [\"Casa\", \"Apartamento\", \"Lote\", \"Chácara\", \"Imóvel comercial\", \"Ponto comercial\", \"Sala\", \"Sobrado\"]\n",
    "\n",
    "        for imovel in imoveistipo:\n",
    "            self.data.loc[self.data['imovel'].str.contains(imovel, case=False), 'tipo_imovel'] = imovel\n",
    "        \n",
    "        # Alocar sigla estado em uma nova feature\n",
    "        self.data['estado'] = self.data['endereco'].str[-2:]\n",
    "        # self.data['municipio'] = self.data['municipio'].str.replace(r' - \\w+$', '', regex=True)\n",
    "\n",
    "        return self.data\n",
    "\n",
    "tratar = tratamento(data)\n",
    "data = tratar.alterarinfos()\n",
    "data = tratar.incluir()\n",
    "\n",
    "data.head()"
   ]
  },
  {
   "cell_type": "markdown",
   "id": "717ada93-4614-4e3a-ab9a-69d67a90e242",
   "metadata": {},
   "source": [
    "# Entendendo os dados - EDA"
   ]
  },
  {
   "cell_type": "code",
   "execution_count": null,
   "id": "5111875e-1796-4246-94c0-a5ccf270a30a",
   "metadata": {
    "editable": true,
    "slideshow": {
     "slide_type": ""
    },
    "tags": []
   },
   "outputs": [],
   "source": [
    "print('\\n-----------------------------------------------')\n",
    "print(data.info())\n",
    "print('\\n-----------------------------------------------')\n",
    "print(data.isnull().sum())\n",
    "print('\\n-----------------------------------------------')\n",
    "print(data.describe(include='all'))\n",
    "print('\\n-----------------------------------------------')\n",
    "print(df.keys())"
   ]
  },
  {
   "cell_type": "code",
   "execution_count": null,
   "id": "8b9cd464-e23a-41ca-989b-68d08a890ffc",
   "metadata": {
    "editable": true,
    "slideshow": {
     "slide_type": ""
    },
    "tags": []
   },
   "outputs": [],
   "source": [
    "#Preenchendo os valores dos lotes com 0 para quartos e banheiros\n",
    "\n",
    "data['qtdquartos'] = data['qtdquartos'].fillna(0)\n",
    "data['qtdbanheiros'] = data['qtdbanheiros'].fillna(0)\n",
    "\n",
    "data.head()"
   ]
  },
  {
   "cell_type": "code",
   "execution_count": null,
   "id": "844eb985-8325-4553-8c6b-c1c75ba5d39c",
   "metadata": {
    "editable": true,
    "slideshow": {
     "slide_type": ""
    },
    "tags": []
   },
   "outputs": [],
   "source": [
    "# Convertendo dtype\n",
    "\n",
    "data['preco'] = data['preco'].astype(float)\n",
    "data['metros'] = data['metros'].astype(int)\n",
    "data['qtdquartos'] = data['qtdquartos'].astype(int)\n",
    "data['qtdbanheiros'] = data['qtdbanheiros'].astype(int)\n",
    "data['tipo_imovel'] = data['tipo_imovel'].astype(str)\n",
    "data['estado'] = data['estado'].astype(str)"
   ]
  },
  {
   "cell_type": "code",
   "execution_count": null,
   "id": "d0e50c87-bf8e-4c3b-8659-fcf1e14d75b8",
   "metadata": {
    "editable": true,
    "slideshow": {
     "slide_type": ""
    },
    "tags": []
   },
   "outputs": [],
   "source": [
    "# Gráfico de contagem de imóveis por estado\n",
    "\n",
    "plt.figure(figsize = (15, 8))\n",
    "ax = sns.countplot(x='estado', data=data, palette=\"hls\")\n",
    "ax.bar_label(ax.containers[0]);"
   ]
  },
  {
   "cell_type": "code",
   "execution_count": null,
   "id": "c0a654b7-6edb-4303-b12f-1ba091d9c377",
   "metadata": {},
   "outputs": [],
   "source": []
  },
  {
   "cell_type": "code",
   "execution_count": null,
   "id": "187ebff8-cace-48ae-8fe9-054f0ef828c0",
   "metadata": {},
   "outputs": [],
   "source": [
    "# Exportando os dados\n",
    "data.to_csv('F:/Projects/Python/webscraping-vivareal/raw/rawvivareal.csv', sep=',', index=False, encoding='utf-8-sig')"
   ]
  }
 ],
 "metadata": {
  "kernelspec": {
   "display_name": "Python 3 (ipykernel)",
   "language": "python",
   "name": "python3"
  },
  "language_info": {
   "codemirror_mode": {
    "name": "ipython",
    "version": 3
   },
   "file_extension": ".py",
   "mimetype": "text/x-python",
   "name": "python",
   "nbconvert_exporter": "python",
   "pygments_lexer": "ipython3",
   "version": "3.11.3"
  }
 },
 "nbformat": 4,
 "nbformat_minor": 5
}
